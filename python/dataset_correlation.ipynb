{
 "cells": [
  {
   "cell_type": "code",
   "execution_count": 24,
   "metadata": {},
   "outputs": [],
   "source": [
    "from random import randint\n",
    "import pandas as pd\n",
    "import numpy as np\n",
    "from datetime import datetime\n",
    "import time\n",
    "from collections import defaultdict\n",
    "import matplotlib.pyplot as plt\n",
    "\n",
    "import os\n",
    "import _ParlayANNpy as pann\n",
    "import numpy as np\n",
    "import wrapper as wp\n",
    "from scipy.sparse import csr_matrix"
   ]
  },
  {
   "cell_type": "code",
   "execution_count": 20,
   "metadata": {},
   "outputs": [
    {
     "name": "stdout",
     "output_type": "stream",
     "text": [
      "Detected 10000000 points with dimension 192\n"
     ]
    }
   ],
   "source": [
    "FERN_DATA_DIR = \"/ssd1/anndata/bigann/\"\n",
    "AWARE_DATA_DIR = \"/ssd1/data/bigann/\"\n",
    "\n",
    "DATA_DIR = FERN_DATA_DIR\n",
    "POINTS_PATH = DATA_DIR + \"data/yfcc100M/base.10M.u8bin.crop_nb_10000000\"\n",
    "FILTER_PATH = DATA_DIR + 'data/yfcc100M/base.metadata.10M.spmat'\n",
    "\n",
    "ds = wp.FilteredDataset(POINTS_PATH, FILTER_PATH)\n",
    "\n",
    "samples = 20\n",
    "# try multiprocessing - spawn 192 processes, each one samples a point\n",
    "\n",
    "columns = ['Point', 'Filter1 Avg Dist', 'Filter2 Avg Dist', 'Join Avg Dist', 'Filter 1', 'Filter 2']\n",
    "df = pd.DataFrame(index=range(samples), columns=columns, dtype=float)\n"
   ]
  },
  {
   "cell_type": "code",
   "execution_count": 21,
   "metadata": {},
   "outputs": [
    {
     "name": "stdout",
     "output_type": "stream",
     "text": [
      "Filter 1 4771781.05393805\n",
      "Filter 2 4871499.193275239\n",
      "Joined 4777241.829480699\n",
      "Filter 1 4271249.749320968\n",
      "Filter 2 4252564.3270279\n",
      "Joined 4258543.158186746\n",
      "Filter 1 4965585.454780533\n",
      "Filter 2 5016140.943467262\n",
      "Joined 4804711.610620059\n",
      "Filter 1 3984466.7424285724\n",
      "Filter 2 4073838.1161499503\n",
      "Joined 4055863.870648127\n",
      "Filter 1 3929890.2641459545\n",
      "Filter 2 4039300.920592521\n",
      "Joined 4053310.888888889\n",
      "Filter 1 3912858.6803292483\n",
      "Filter 2 3968495.284984742\n",
      "Joined 3919363.396571305\n",
      "Filter 1 3632206.1764705884\n",
      "Filter 2 3892787.486721535\n",
      "Joined 3632206.1764705884\n",
      "Filter 1 3899469.3768569194\n",
      "Filter 2 3969118.0456708493\n",
      "Joined 3979974.140672783\n",
      "Filter 1 4253889.223672759\n",
      "Filter 2 4318278.774255241\n",
      "Joined 4253709.019213974\n",
      "Filter 1 3912012.406957482\n",
      "Filter 2 3904428.1430179207\n",
      "Joined 4019969.3498233217\n",
      "Filter 1 3840808.190658343\n",
      "Filter 2 2943314.6851119893\n",
      "Joined 2907857.285714286\n",
      "Filter 1 3920774.274568416\n",
      "Filter 2 3884711.2188954935\n",
      "Joined 3895592.606637054\n",
      "Filter 1 4030459.9370985962\n",
      "Filter 2 4036896.364506438\n",
      "Joined 3978548.7569338856\n",
      "Filter 1 3589442.6164400964\n",
      "Filter 2 3697406.390041297\n",
      "Joined 3544900.254433308\n",
      "Filter 1 4004372.0577312643\n",
      "Filter 2 4034185.9225653405\n",
      "Joined 4037751.537683912\n",
      "Filter 1 4220487.7356510395\n",
      "Filter 2 4215091.279658645\n",
      "Joined 4183511.499412456\n",
      "Filter 1 3960220.9055555556\n",
      "Filter 2 3889839.725899241\n",
      "Joined 3488722.1\n",
      "Filter 1 4135272.7983751525\n",
      "Filter 2 4005936.6666666665\n",
      "Joined 3979821.811764706\n",
      "Filter 1 3998909.330166142\n",
      "Filter 2 3942661.623013031\n",
      "Joined 3941298.14819153\n",
      "Filter 1 3599107.2406015038\n",
      "Filter 2 3848116.8996272264\n",
      "Joined 3665467.6785714286\n"
     ]
    }
   ],
   "source": [
    "# Repeat the following steps many times:\n",
    "for i in range(samples):\n",
    "    # 1. Select a random point (try the query set after the general dataset)\n",
    "    point = randint(0, ds.size()-1)\n",
    "    filters = ds.get_point_filters(point)\n",
    "    while len(filters) < 2:\n",
    "        point = randint(0, ds.size()-1) \n",
    "        filters = ds.get_point_filters(point)\n",
    "\n",
    "    # 2. Select two random filters associated with that point\n",
    "    filter1 = randint(0, len(filters) - 1)\n",
    "    filter2 = randint(0, len(filters) - 1)\n",
    "    while filter1 == filter2:\n",
    "        filter2 = randint(0, len(filters) - 1)\n",
    "    filter1 = filters[filter1]\n",
    "    filter2 = filters[filter2]\n",
    "\n",
    "    # 3. Compute the average distance between this point and Filter 1\n",
    "    filter1_points = ds.get_filter_points(filter1)\n",
    "    avg_dist1 = 0\n",
    "    for p in filter1_points:\n",
    "        if p != point:\n",
    "            avg_dist1 += ds.distance(point, p)\n",
    "    avg_dist1 /= (len(filter1_points)-1)\n",
    "    print(\"Filter 1\", avg_dist1)\n",
    "\n",
    "    # 4. Compute the average distance between this point and Filter 2\n",
    "    filter2_points = ds.get_filter_points(filter2)\n",
    "    avg_dist2 = 0\n",
    "    for p in filter2_points:\n",
    "        if p != point:\n",
    "            avg_dist2 += ds.distance(point, p)\n",
    "    avg_dist2 /= (len(filter2_points)-1)\n",
    "    print(\"Filter 2\", avg_dist2)\n",
    "\n",
    "    # 5. Compute the average distance between this point and points in Filter 1 AND Filter 2\n",
    "    join_filters_points = ds.get_filter_intersection(filter1, filter2)\n",
    "    avg_join_dist = 0\n",
    "    for p in join_filters_points:\n",
    "        if p != point:\n",
    "            avg_join_dist += ds.distance(p, point)\n",
    "    if len(join_filters_points) > 1:\n",
    "        avg_join_dist /= (len(join_filters_points)-1)\n",
    "    print(\"Joined\", avg_join_dist)\n",
    "\n",
    "    # 6. Store this data into a pandas dataframe along with as much other information as possible\n",
    "    df.at[i, 'Point'] = point\n",
    "    df.at[i, 'Filter1 Avg Dist'] = avg_dist1\n",
    "    df.at[i, 'Filter2 Avg Dist'] = avg_dist2\n",
    "    df.at[i, 'Join Avg Dist'] = avg_join_dist\n",
    "    df.at[i, 'Filter 1'] = filter1\n",
    "    df.at[i, 'Filter 2'] = filter2"
   ]
  },
  {
   "cell_type": "code",
   "execution_count": 22,
   "metadata": {},
   "outputs": [
    {
     "name": "stderr",
     "output_type": "stream",
     "text": [
      "No handles with labels found to put in legend.\n"
     ]
    },
    {
     "data": {
      "image/png": "[encoded data removed]",
      "text/plain": [
       "<Figure size 432x288 with 1 Axes>"
      ]
     },
     "metadata": {
      "needs_background": "light"
     },
     "output_type": "display_data"
    }
   ],
   "source": [
    "# Create histogram of the average distances (using matplotlib or seaborn)\n",
    "df['Point'] = df['Point'].astype(int)\n",
    "df['Filter 1'] = df['Filter 1'].astype(int)\n",
    "df['Filter 2'] = df['Filter 2'].astype(int)\n",
    "# print(df)\n",
    "\n",
    "x = np.arange(1, samples+1)\n",
    "\n",
    "y = list(df['Filter1 Avg Dist'])\n",
    "z = list(df['Filter2 Avg Dist'])\n",
    "k = list(df['Join Avg Dist'])\n",
    "\n",
    "# print(y,z,k)\n",
    "\n",
    "ax = plt.subplot(111)\n",
    "w = 0.3\n",
    "ax.bar(x-w, y, width=w, color='b', align='center')\n",
    "ax.bar(x, z, width=w, color='g', align='center')\n",
    "ax.bar(x+w, k, width=w, color='r', align='center')\n",
    "ax.legend(loc='upper right')\n",
    "# ax.autoscale(tight=True)\n",
    "\n",
    "plt.show()"
   ]
  }
 ],
 "metadata": {
  "kernelspec": {
   "display_name": "Python 3",
   "language": "python",
   "name": "python3"
  },
  "language_info": {
   "codemirror_mode": {
    "name": "ipython",
    "version": 3
   },
   "file_extension": ".py",
   "mimetype": "text/x-python",
   "name": "python",
   "nbconvert_exporter": "python",
   "pygments_lexer": "ipython3",
   "version": "3.10.12"
  }
 },
 "nbformat": 4,
 "nbformat_minor": 2
}
